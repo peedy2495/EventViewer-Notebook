{
 "cells": [
  {
   "cell_type": "code",
   "execution_count": 212,
   "metadata": {},
   "outputs": [],
   "source": [
    "def normstr(cont):\n",
    "    return re.sub('[^a-zA-Z0-9\\-\\_]', '', cont).lower()"
   ]
  },
  {
   "cell_type": "code",
   "execution_count": 235,
   "metadata": {},
   "outputs": [],
   "source": [
    "import json\n",
    "with open('EventViewer-Notebook/pool.json', 'r') as f:\n",
    "    pool = json.load(f)"
   ]
  },
  {
   "cell_type": "code",
   "execution_count": 236,
   "metadata": {},
   "outputs": [],
   "source": [
    "import pandas as pd\n",
    "df = pd.read_excel('EventViewer-Notebook/excels/sample.xls', skiprows=1)\n",
    "df = df.fillna('')\n",
    "\n",
    "for col in df.columns:\n",
    "    if 'Unnamed' in col:\n",
    "        df.rename(columns={col: normstr(pcol)+\"_\"+normstr(str(df.iloc[0][col]))}, inplace=True)\n",
    "    else:\n",
    "        df.rename(columns={col: normstr(col)+\"_\"+normstr(str(df.iloc[0][col]))}, inplace=True)\n",
    "        pcol = col\n",
    "df = df.iloc[1:]"
   ]
  },
  {
   "cell_type": "code",
   "execution_count": 237,
   "metadata": {},
   "outputs": [],
   "source": [
    "import re\n",
    "\n",
    "assocr = []\n",
    "assoce = []\n",
    "\n",
    "for group in pool:\n",
    "    for item in (pool[group]):\n",
    "        if item['Type'] == \"Range\":\n",
    "            con = normstr(group + '_' + item['On'])\n",
    "            coff = normstr(group + '_' + item['Off'])\n",
    "            if con in df.columns and coff in df.columns:\n",
    "                assocr.append({\n",
    "                    'Name' : item['Name'],\n",
    "                    'On' : con,\n",
    "                    'Off' : coff,\n",
    "                    'Kind' : item['Kind']\n",
    "                })\n",
    "        if item['Type'] == \"Event\":\n",
    "            evt = normstr(group + '_' + item['Event'])\n",
    "            if evt in df.columns:\n",
    "                assoce.append({\n",
    "                    'Name' : item['Name'],\n",
    "                    'Event' : evt,\n",
    "                    'Kind' : item['Kind']\n",
    "                })   "
   ]
  },
  {
   "cell_type": "code",
   "execution_count": 238,
   "metadata": {},
   "outputs": [
    {
     "data": {
      "text/plain": [
       "[{'Name': 'SysA',\n",
       "  'On': 'div1_sysaon',\n",
       "  'Off': 'div1_sysaoff',\n",
       "  'Kind': 'GroupA'},\n",
       " {'Name': 'SysA',\n",
       "  'On': 'div2_sysaon',\n",
       "  'Off': 'div2_sysaoff',\n",
       "  'Kind': 'GroupB'}]"
      ]
     },
     "execution_count": 238,
     "metadata": {},
     "output_type": "execute_result"
    }
   ],
   "source": [
    "assocr"
   ]
  },
  {
   "cell_type": "code",
   "execution_count": 239,
   "metadata": {},
   "outputs": [
    {
     "data": {
      "text/plain": [
       "[{'Name': 'SysA', 'Event': 'div2_sysaact', 'Kind': 'GroupB'}]"
      ]
     },
     "execution_count": 239,
     "metadata": {},
     "output_type": "execute_result"
    }
   ],
   "source": [
    "assoce"
   ]
  },
  {
   "cell_type": "code",
   "execution_count": 227,
   "metadata": {},
   "outputs": [
    {
     "data": {
      "text/html": [
       "<div>\n",
       "<style scoped>\n",
       "    .dataframe tbody tr th:only-of-type {\n",
       "        vertical-align: middle;\n",
       "    }\n",
       "\n",
       "    .dataframe tbody tr th {\n",
       "        vertical-align: top;\n",
       "    }\n",
       "\n",
       "    .dataframe thead th {\n",
       "        text-align: right;\n",
       "    }\n",
       "</style>\n",
       "<table border=\"1\" class=\"dataframe\">\n",
       "  <thead>\n",
       "    <tr style=\"text-align: right;\">\n",
       "      <th></th>\n",
       "      <th>zeitz_</th>\n",
       "      <th>zeitz_ft</th>\n",
       "      <th>div1_sysaon</th>\n",
       "      <th>div1_sysaoff</th>\n",
       "      <th>div2_sysaon</th>\n",
       "      <th>div2_sysaoff</th>\n",
       "      <th>div2_sysaact</th>\n",
       "    </tr>\n",
       "  </thead>\n",
       "  <tbody>\n",
       "    <tr>\n",
       "      <th>1</th>\n",
       "      <td>12:30:00</td>\n",
       "      <td>300</td>\n",
       "      <td>x</td>\n",
       "      <td></td>\n",
       "      <td></td>\n",
       "      <td></td>\n",
       "      <td></td>\n",
       "    </tr>\n",
       "    <tr>\n",
       "      <th>2</th>\n",
       "      <td>12:32:00</td>\n",
       "      <td>400</td>\n",
       "      <td></td>\n",
       "      <td>x</td>\n",
       "      <td></td>\n",
       "      <td></td>\n",
       "      <td></td>\n",
       "    </tr>\n",
       "    <tr>\n",
       "      <th>3</th>\n",
       "      <td>12:40:00</td>\n",
       "      <td>500</td>\n",
       "      <td></td>\n",
       "      <td></td>\n",
       "      <td>x</td>\n",
       "      <td></td>\n",
       "      <td></td>\n",
       "    </tr>\n",
       "    <tr>\n",
       "      <th>4</th>\n",
       "      <td>12:42:00</td>\n",
       "      <td>600</td>\n",
       "      <td></td>\n",
       "      <td></td>\n",
       "      <td></td>\n",
       "      <td>x</td>\n",
       "      <td>x</td>\n",
       "    </tr>\n",
       "  </tbody>\n",
       "</table>\n",
       "</div>"
      ],
      "text/plain": [
       "     zeitz_ zeitz_ft div1_sysaon div1_sysaoff div2_sysaon div2_sysaoff  \\\n",
       "1  12:30:00      300           x                                         \n",
       "2  12:32:00      400                        x                            \n",
       "3  12:40:00      500                                    x                \n",
       "4  12:42:00      600                                                 x   \n",
       "\n",
       "  div2_sysaact  \n",
       "1               \n",
       "2               \n",
       "3               \n",
       "4            x  "
      ]
     },
     "execution_count": 227,
     "metadata": {},
     "output_type": "execute_result"
    }
   ],
   "source": [
    "df"
   ]
  },
  {
   "cell_type": "code",
   "execution_count": null,
   "metadata": {},
   "outputs": [],
   "source": []
  }
 ],
 "metadata": {
  "kernelspec": {
   "display_name": "Python 3",
   "language": "python",
   "name": "python3"
  },
  "language_info": {
   "codemirror_mode": {
    "name": "ipython",
    "version": 3
   },
   "file_extension": ".py",
   "mimetype": "text/x-python",
   "name": "python",
   "nbconvert_exporter": "python",
   "pygments_lexer": "ipython3",
   "version": "3.7.4"
  }
 },
 "nbformat": 4,
 "nbformat_minor": 4
}
